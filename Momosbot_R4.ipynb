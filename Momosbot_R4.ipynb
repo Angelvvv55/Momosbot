{
  "nbformat": 4,
  "nbformat_minor": 0,
  "metadata": {
    "colab": {
      "provenance": [],
      "mount_file_id": "1YQEhQi54LDoaZ9Gow85qVayL8YxY5nQ0",
      "authorship_tag": "ABX9TyOuNx2GtRdYUmNZipfgYjBG",
      "include_colab_link": true
    },
    "kernelspec": {
      "name": "python3",
      "display_name": "Python 3"
    },
    "language_info": {
      "name": "python"
    }
  },
  "cells": [
    {
      "cell_type": "markdown",
      "metadata": {
        "id": "view-in-github",
        "colab_type": "text"
      },
      "source": [
        "<a href=\"https://colab.research.google.com/github/Angelvvv55/Momosbot/blob/main/Momosbot_R4.ipynb\" target=\"_parent\"><img src=\"https://colab.research.google.com/assets/colab-badge.svg\" alt=\"Open In Colab\"/></a>"
      ]
    },
    {
      "cell_type": "markdown",
      "source": [
        "# **MOMOSBOT**"
      ],
      "metadata": {
        "id": "zMAdYqs7gwIX"
      }
    },
    {
      "cell_type": "code",
      "source": [
        "#Importar plantillas\n",
        "from google.colab import files\n",
        "upladed = files.upload()"
      ],
      "metadata": {
        "id": "oJEwZB-z_1CC"
      },
      "execution_count": null,
      "outputs": []
    },
    {
      "cell_type": "code",
      "source": [
        "from IPython.core.interactiveshell import SpaceInInput\n",
        "import random\n",
        "import os\n",
        "import cv2\n",
        "import numpy as np\n",
        "from IPython.display import Image\n",
        "\n",
        "# Variables\n",
        "when = [\"When\", \"Cuando\", \"How when\", \"When POV\"]\n",
        "tu_gfa = [\"tu gfesita\", \"el gordo\", \"el Pepe\", \"la niña del sotano\", \"tu elfa\", \"tu crush\", \"el Uriel\", \"Xbox\", \"Mike\", \"Sony\", \"Miertendo\", \"tu c jefesita\", \"tu gfa\", \"el Ded\", \"Etika\", \"AMLO\",\n",
        "          \"Donald Trump\", \"Peña Nieto\", \"el Mencho\", \"Marvel\", \"Scorsese\", \"la vecina\", \"Cokun\", \"el vecino de enfrente\", \"la maestra\", \"el profe\", \"Gwen\", \"Don Cangrejo\", \"Calamardo\",\n",
        "          \"la cucaracha de tu cuarto\", \"un wn de la nasa\", \"un alien\", \"un mexichango\", \"Nicolas Maduro\", \"Hitler\", \"un perro comiendo cereal\", \"una gorda\", \"un otaku\", \"George Floyd\", \"La reina Isabel\",\n",
        "          \"CJ\", \"Fernan el crack\"]\n",
        "es_puta = [\"es penetrad@ analmente\", \"come un snickers\", \"te traga la chota\", \"vende sus organos para pagar al SAT\", \"es put@\", \"pierde la generacion\", \"hace el septiembre sin fap\",\n",
        "           \"se hace la automorision\", \"juega maincra\", \"te truena el nepe\", \"tiene sexo anal con tu papá\", \"viaja en el tiempo\", \"es chalan\", \"toma clorox\", \"pasa pack\", \"le dice ven a Ben\", \"es mierda\",\n",
        "           \"te introduce una sonda anal\", \"se prepara para la guerra\", \"caga en el baño del mcdonalds\", \"asesina a Kennedy de un tiro\", \"te abandona\", \"te hace un sandwich\", \"hace porno furro\",\n",
        "           \"escucha musica de Linkin Park\", \"no te ama\", \"mira la rosa de wardalupe\", \"pasa cpcito\", \"se saca las sheshes\", \"te chupa una teta\", \"se ahorca el ganso\", \"se saca el nepe\",\n",
        "           \"mira tu historial\", \"ve nopor en tu pc\", \"mira videos loquendo del san diarreas\", \"es furro\", \"es trapito\", \"come torta de webito\", \"es mandad@ al anexo\"]\n",
        "vvvxdxd = [\":''vv\", \":vvv xDXdxD\", \":vvvvv\", \"Bv\", \":v Bv\", \"vv:\", \">:vvv\", \">:''vvv\", \":v :3\", \"en septiembre del año 2030\", \":vvv\", \":v\", \":v:\", \":uuu\", \"<[:{v\", \";vvv\", \"we :vv\"]\n",
        "but = [\"but\", \"and\", \"but no hay pedo porque\"]\n",
        "whenn = random.choice(when)\n",
        "tugfa = random.choice(tu_gfa)\n",
        "esputa = random.choice(es_puta)\n",
        "vvxd = random.choice(vvvxdxd)\n",
        "butt = random.choice(but)\n",
        "\n",
        "# RandomImg\n",
        "path = \"/content\"\n",
        "\n",
        "random_imageName = random.choice([\n",
        "    x for x in os.listdir(path)\n",
        "    if os.path.isfile(os.path.join(path, x))\n",
        "])\n",
        "\n",
        "# Print\n",
        "print(\"################# MOMOSBOT REGION 4 MOMAZOS TIO CHUY #################\")\n",
        "print(\"\")\n",
        "print(f\"{whenn} {tugfa} {esputa} {vvxd}\")\n",
        "Image(os.path.join(path, random_imageName))\n",
        "\n",
        "# print(butt + \" \" + esputa + \"\" + vvxd)"
      ],
      "metadata": {
        "id": "-PzdckXtgpwc"
      },
      "execution_count": null,
      "outputs": []
    }
  ]
}